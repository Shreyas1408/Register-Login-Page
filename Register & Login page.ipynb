{
 "cells": [
  {
   "cell_type": "code",
   "execution_count": 1,
   "id": "95daa245-bfa5-4761-a4d1-8d97e156c79e",
   "metadata": {},
   "outputs": [],
   "source": [
    "from PIL import Image\n",
    "from IPython.display import display\n",
    "import getpass"
   ]
  },
  {
   "cell_type": "code",
   "execution_count": 2,
   "id": "d526a6ba-976a-40e4-be35-11d159a14f0d",
   "metadata": {},
   "outputs": [],
   "source": [
    "Welcome = Image.open(r\"D:\\FSDA\\2.PYTHON\\PROJECTS\\icons\\welcome.png\").resize((50,50))\n",
    "Register = Image.open(r\"D:\\FSDA\\2.PYTHON\\PROJECTS\\icons\\register.png\").resize((50,50))\n",
    "Successfull = Image.open(r\"D:\\FSDA\\2.PYTHON\\PROJECTS\\icons\\successfull.png\").resize((50,50))\n",
    "Login = Image.open(r\"D:\\FSDA\\2.PYTHON\\PROJECTS\\icons\\login.png\").resize((50,50))\n",
    "Thankyou = Image.open(r\"D:\\FSDA\\2.PYTHON\\PROJECTS\\icons\\thank-you.png\").resize((50,50))\n",
    "Wrong = Image.open(r\"D:\\FSDA\\2.PYTHON\\PROJECTS\\icons\\error.png\").resize((50,50))"
   ]
  },
  {
   "cell_type": "code",
   "execution_count": 3,
   "id": "6df97f50-6989-40d9-bbb6-5ae09ce24a19",
   "metadata": {},
   "outputs": [],
   "source": [
    "user_data = {}"
   ]
  },
  {
   "cell_type": "code",
   "execution_count": 8,
   "id": "086eb741-1818-41f0-9d53-fc8cabe74eb3",
   "metadata": {},
   "outputs": [
    {
     "data": {
      "text/plain": [
       "{'venu': 'venu123', 'shreyas': 'shreyas'}"
      ]
     },
     "execution_count": 8,
     "metadata": {},
     "output_type": "execute_result"
    }
   ],
   "source": [
    "user_data"
   ]
  },
  {
   "cell_type": "code",
   "execution_count": 9,
   "id": "d496760b-b671-4ca9-9224-2890cf56c4a8",
   "metadata": {},
   "outputs": [
    {
     "data": {
      "image/png": "[encoded data removed]",
      "text/plain": [
       "<PIL.Image.Image image mode=RGBA size=50x50>"
      ]
     },
     "metadata": {},
     "output_type": "display_data"
    },
    {
     "name": "stdout",
     "output_type": "stream",
     "text": [
      "If you want to Register enter R\n",
      "If you want to Login enter L\n",
      "If you want to exit enter any key except r & l\n"
     ]
    },
    {
     "name": "stdin",
     "output_type": "stream",
     "text": [
      "Would you like to Register or Login t\n"
     ]
    },
    {
     "data": {
      "image/png": "[encoded data removed]",
      "text/plain": [
       "<PIL.Image.Image image mode=RGBA size=50x50>"
      ]
     },
     "metadata": {},
     "output_type": "display_data"
    }
   ],
   "source": [
    "display(Welcome)\n",
    "print(\"If you want to Register enter R\")\n",
    "print(\"If you want to Login enter L\")\n",
    "print(\"If you want to exit enter any key except r & l\")\n",
    "choice = input(\"Would you like to Register or Login\")\n",
    "\n",
    "if choice == 'R' or choice == 'r':\n",
    "    def register():\n",
    "        display(Register)\n",
    "        def cid():\n",
    "            c_id = input(\"Create User ID: \")\n",
    "            if len(c_id) < 4:\n",
    "                print(\"User ID must have atleast 4 characters\")\n",
    "                display(Wrong)\n",
    "                cid()\n",
    "            if c_id in user_data.keys():\n",
    "                print('User ID already exist try different one')\n",
    "                display(Wrong)\n",
    "                cid()\n",
    "            else:\n",
    "                def cpwd():\n",
    "                    c_pwd = getpass.getpass(\"Create Password\")\n",
    "                    if len(c_pwd) < 5:\n",
    "                        print(\"Password must have atleas 5 characters\")\n",
    "                        display(Wrong)\n",
    "                        cpwd()\n",
    "                    else:\n",
    "                        user_data[c_id] = c_pwd\n",
    "                        print(\"You have been registered successfully\")\n",
    "                        display(Successfull)\n",
    "                cpwd()\n",
    "        cid()\n",
    "    register()\n",
    "\n",
    "elif choice == 'L' or choice == 'l':\n",
    "    display(Login)\n",
    "    \n",
    "    def Login():\n",
    "        def l_id():\n",
    "            l_id = input(\"Enter User ID: \")\n",
    "            if l_id not in user_data.keys():\n",
    "                print(\"User ID does'nt exist Enter valid one or create new ID\")\n",
    "                display(Wrong)\n",
    "                print(\"If you want to create new ID choose R, if you want to try to login again enter L\")\n",
    "                choice2 = str(input(\"R/L:\"))\n",
    "                choice2\n",
    "                if choice2 == 'R' or choice2 == 'r':\n",
    "                    register()\n",
    "                elif choice2 == 'L' or choice2 == 'l':\n",
    "                    Login()\n",
    "            else:\n",
    "                def l_pwd():\n",
    "                    l_pwd = getpass.getpass(\"Enter Your password: \")\n",
    "                    if l_id in user_data.keys():\n",
    "                        verify = user_data[l_id]\n",
    "                    if verify == l_pwd:\n",
    "                        print(\"You have been logged in successfully\")\n",
    "                        display(Successfull)\n",
    "                    elif verify != l_pwd:\n",
    "                        print(\"Inncorrect Login ID or password try again\")\n",
    "                        display(Wrong)\n",
    "                        Login()  \n",
    "                        \n",
    "                l_pwd()\n",
    "        l_id()\n",
    "    Login()\n",
    "    \n",
    "else:\n",
    "    display(Thankyou)"
   ]
  },
  {
   "cell_type": "raw",
   "id": "ac25cec3-4d3c-4e0b-89fe-76d40f54de71",
   "metadata": {},
   "source": []
  }
 ],
 "metadata": {
  "kernelspec": {
   "display_name": "Python 3 (ipykernel)",
   "language": "python",
   "name": "python3"
  },
  "language_info": {
   "codemirror_mode": {
    "name": "ipython",
    "version": 3
   },
   "file_extension": ".py",
   "mimetype": "text/x-python",
   "name": "python",
   "nbconvert_exporter": "python",
   "pygments_lexer": "ipython3",
   "version": "3.11.5"
  }
 },
 "nbformat": 4,
 "nbformat_minor": 5
}
